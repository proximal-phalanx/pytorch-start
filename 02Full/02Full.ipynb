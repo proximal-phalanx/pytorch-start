{
 "cells": [
  {
   "cell_type": "code",
   "execution_count": 41,
   "metadata": {},
   "outputs": [],
   "source": [
    "import torch as th\n",
    "import numpy as np\n",
    "from tqdm.notebook import trange"
   ]
  },
  {
   "cell_type": "code",
   "execution_count": 42,
   "metadata": {},
   "outputs": [],
   "source": [
    "device = \"mps\"\n",
    "dtype = th.float32"
   ]
  },
  {
   "cell_type": "code",
   "execution_count": 43,
   "metadata": {},
   "outputs": [],
   "source": [
    "model = th.nn.Sequential(\n",
    "    th.nn.Linear(2, 10),\n",
    "    th.nn.ReLU(),\n",
    "    th.nn.Linear(10, 10),\n",
    "    th.nn.ReLU(),\n",
    "    th.nn.Linear(10, 1),\n",
    "    th.nn.ReLU(),\n",
    ").to(device=device, dtype=dtype)"
   ]
  },
  {
   "cell_type": "code",
   "execution_count": 44,
   "metadata": {},
   "outputs": [],
   "source": [
    "# Test data for xor\n",
    "X = th.tensor([[0, 0], [0, 1], [1, 0], [1, 1]], dtype=dtype, device=device)\n",
    "Y = th.tensor([[0], [1], [1], [0]], dtype=dtype, device=device)"
   ]
  },
  {
   "cell_type": "code",
   "execution_count": 45,
   "metadata": {},
   "outputs": [
    {
     "data": {
      "application/vnd.jupyter.widget-view+json": {
       "model_id": "820f7d3c1e4c4aa0b4f6334336309a39",
       "version_major": 2,
       "version_minor": 0
      },
      "text/plain": [
       "  0%|          | 0/1000 [00:00<?, ?it/s]"
      ]
     },
     "metadata": {},
     "output_type": "display_data"
    },
    {
     "name": "stdout",
     "output_type": "stream",
     "text": [
      "Step 0, Loss 0.6016374826431274\n",
      "Step 100, Loss 0.007359860930591822\n",
      "Step 200, Loss 0.006367165129631758\n",
      "Step 300, Loss 0.003925811965018511\n",
      "Step 400, Loss 0.004140137229114771\n",
      "Step 500, Loss 0.007581101264804602\n",
      "Step 600, Loss 0.007996825501322746\n",
      "Step 700, Loss 0.005527374800294638\n",
      "Step 800, Loss 0.0072339000180363655\n",
      "Step 900, Loss 0.007812712341547012\n"
     ]
    }
   ],
   "source": [
    "lr = 1e-2\n",
    "optimizer = th.optim.Adam(model.parameters(), lr=lr)\n",
    "steps = 1000\n",
    "logging_steps = 100\n",
    "\n",
    "for step in trange(steps):\n",
    "    optimizer.zero_grad()\n",
    "    Y_pred = model(X)\n",
    "    # Use RMSE loss\n",
    "    loss = th.sqrt(th.mean((Y_pred - Y) ** 2))\n",
    "    loss.backward()\n",
    "    optimizer.step()\n",
    "    if step % logging_steps == 0:\n",
    "        print(f\"Step {step}, Loss {loss.item()}\")"
   ]
  },
  {
   "cell_type": "code",
   "execution_count": 46,
   "metadata": {},
   "outputs": [
    {
     "name": "stdout",
     "output_type": "stream",
     "text": [
      "Predictions:\n",
      "tensor([[0.0000],\n",
      "        [1.0090],\n",
      "        [0.9988],\n",
      "        [0.0000]], device='mps:0', grad_fn=<ReluBackward0>)\n"
     ]
    }
   ],
   "source": [
    "y_pred = model(X)\n",
    "print(\"Predictions:\")\n",
    "print(y_pred)"
   ]
  }
 ],
 "metadata": {
  "kernelspec": {
   "display_name": "Python 3",
   "language": "python",
   "name": "python3"
  },
  "language_info": {
   "codemirror_mode": {
    "name": "ipython",
    "version": 3
   },
   "file_extension": ".py",
   "mimetype": "text/x-python",
   "name": "python",
   "nbconvert_exporter": "python",
   "pygments_lexer": "ipython3",
   "version": "3.12.3"
  }
 },
 "nbformat": 4,
 "nbformat_minor": 2
}
