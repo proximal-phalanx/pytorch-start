{
 "cells": [
  {
   "cell_type": "code",
   "execution_count": 1,
   "metadata": {},
   "outputs": [],
   "source": [
    "import torch\n",
    "import torch.nn as nn\n",
    "import numpy as np"
   ]
  },
  {
   "cell_type": "code",
   "execution_count": 2,
   "metadata": {},
   "outputs": [],
   "source": [
    "# Define the RNN model\n",
    "class SimpleRNN(nn.Module):\n",
    "    def __init__(self, input_size, hidden_size, output_size):\n",
    "        super(SimpleRNN, self).__init__()\n",
    "\n",
    "        self.hidden_size = hidden_size\n",
    "\n",
    "        self.i2h = nn.Linear(input_size + hidden_size, hidden_size)\n",
    "        self.i2o = nn.Linear(input_size + hidden_size, output_size)\n",
    "        self.softmax = nn.LogSoftmax(dim=1)\n",
    "\n",
    "    def forward(self, input, hidden):\n",
    "        combined = torch.cat((input, hidden), 1)\n",
    "        hidden = self.i2h(combined)\n",
    "        output = self.i2o(combined)\n",
    "        output = self.softmax(output)\n",
    "        return output, hidden\n",
    "\n",
    "    def initHidden(self):\n",
    "        return torch.zeros(1, self.hidden_size)"
   ]
  },
  {
   "cell_type": "code",
   "execution_count": 3,
   "metadata": {},
   "outputs": [],
   "source": [
    "# Function to generate training data\n",
    "def generate_training_data(n):\n",
    "    binary_strings = [format(i, '07b') for i in range(1, n+1)]\n",
    "    decimal_numbers = list(range(1, n+1))\n",
    "    return binary_strings, decimal_numbers\n",
    "\n",
    "# Generate the training data\n",
    "binary_strings, decimal_numbers = generate_training_data(63)\n",
    "\n",
    "# Convert the training data to tensors\n",
    "binary_tensors = [torch.tensor([int(b) for b in bs], dtype=torch.float32).view(-1, 1) for bs in binary_strings]\n",
    "decimal_tensors = [torch.tensor([dn], dtype=torch.long) for dn in decimal_numbers]"
   ]
  },
  {
   "cell_type": "code",
   "execution_count": 4,
   "metadata": {},
   "outputs": [
    {
     "data": {
      "text/plain": [
       "tensor([[0.],\n",
       "        [0.],\n",
       "        [0.],\n",
       "        [0.],\n",
       "        [0.],\n",
       "        [0.],\n",
       "        [1.]])"
      ]
     },
     "execution_count": 4,
     "metadata": {},
     "output_type": "execute_result"
    }
   ],
   "source": [
    "binary_tensors[0]"
   ]
  },
  {
   "cell_type": "code",
   "execution_count": 5,
   "metadata": {},
   "outputs": [],
   "source": [
    "from tqdm.notebook import trange"
   ]
  },
  {
   "cell_type": "code",
   "execution_count": 6,
   "metadata": {},
   "outputs": [
    {
     "data": {
      "application/vnd.jupyter.widget-view+json": {
       "model_id": "d240daaf66f64d569bc32f3da4ca5142",
       "version_major": 2,
       "version_minor": 0
      },
      "text/plain": [
       "  0%|          | 0/5000 [00:00<?, ?it/s]"
      ]
     },
     "metadata": {},
     "output_type": "display_data"
    },
    {
     "name": "stdout",
     "output_type": "stream",
     "text": [
      "Epoch 500/5000, Loss: 0.39086836268977515\n",
      "Epoch 1000/5000, Loss: 0.21066175769304946\n",
      "Epoch 1500/5000, Loss: 0.14125838452979686\n",
      "Epoch 2000/5000, Loss: 0.10544409492747887\n",
      "Epoch 2500/5000, Loss: 0.08383469372647741\n",
      "Epoch 3000/5000, Loss: 0.06945531883661354\n",
      "Epoch 3500/5000, Loss: 0.059227800220325\n",
      "Epoch 4000/5000, Loss: 0.051596030326826234\n",
      "Epoch 4500/5000, Loss: 0.045690228297774284\n",
      "Epoch 5000/5000, Loss: 0.04098713026928996\n"
     ]
    }
   ],
   "source": [
    "# Define the RNN\n",
    "n_input = 1\n",
    "n_hidden = 16\n",
    "n_output = 64\n",
    "rnn = SimpleRNN(n_input, n_hidden, n_output)\n",
    "\n",
    "# Define the loss function and the optimizer\n",
    "criterion = nn.NLLLoss()\n",
    "optimizer = torch.optim.SGD(rnn.parameters(), lr=0.005)\n",
    "\n",
    "# Train the RNN\n",
    "n_epochs = 5000\n",
    "for epoch in trange(n_epochs):\n",
    "    total_loss = 0\n",
    "    for binary, decimal in zip(binary_tensors, decimal_tensors):\n",
    "        hidden = rnn.initHidden()\n",
    "        for i in range(binary.size()[0]):\n",
    "            output, hidden = rnn(binary[i].view(1, -1), hidden)\n",
    "        loss = criterion(output, decimal)\n",
    "        optimizer.zero_grad()\n",
    "        loss.backward()\n",
    "        optimizer.step()\n",
    "        total_loss += loss.item()\n",
    "    if (epoch + 1) % 500 == 0:\n",
    "        print(f'Epoch {epoch + 1}/{n_epochs}, Loss: {total_loss / len(binary_tensors)}')"
   ]
  },
  {
   "cell_type": "code",
   "execution_count": 9,
   "metadata": {},
   "outputs": [
    {
     "name": "stdout",
     "output_type": "stream",
     "text": [
      "Test data: [1, 0, 0, 0], Predicted: 8, Should be: 8\n"
     ]
    }
   ],
   "source": [
    "test_data = [1, 0, 0, 0]\n",
    "test_result_should = 8\n",
    "\n",
    "test_data_tensor = torch.tensor([int(b) for b in test_data], dtype=torch.float32).view(-1, 1)\n",
    "hidden = rnn.initHidden()\n",
    "for i in range(test_data_tensor.size()[0]):\n",
    "    output, hidden = rnn(test_data_tensor[i].view(1, -1), hidden)\n",
    "_, predicted = torch.max(output, 1)\n",
    "print(f'Test data: {test_data}, Predicted: {predicted.item()}, Should be: {test_result_should}')"
   ]
  },
  {
   "cell_type": "code",
   "execution_count": null,
   "metadata": {},
   "outputs": [],
   "source": []
  }
 ],
 "metadata": {
  "kernelspec": {
   "display_name": "Python 3",
   "language": "python",
   "name": "python3"
  },
  "language_info": {
   "codemirror_mode": {
    "name": "ipython",
    "version": 3
   },
   "file_extension": ".py",
   "mimetype": "text/x-python",
   "name": "python",
   "nbconvert_exporter": "python",
   "pygments_lexer": "ipython3",
   "version": "3.12.3"
  }
 },
 "nbformat": 4,
 "nbformat_minor": 2
}
